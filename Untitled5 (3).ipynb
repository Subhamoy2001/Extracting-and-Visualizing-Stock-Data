{
 "cells": [
  {
   "cell_type": "code",
   "execution_count": 31,
   "id": "28442c49",
   "metadata": {},
   "outputs": [
    {
     "name": "stderr",
     "output_type": "stream",
     "text": [
      "[*********************100%%**********************]  1 of 1 completed"
     ]
    },
    {
     "name": "stdout",
     "output_type": "stream",
     "text": [
      "        Date        Open        High         Low       Close   Adj Close  \\\n",
      "0 2022-01-03  382.583344  400.356659  378.679993  399.926666  399.926666   \n",
      "1 2022-01-04  396.516663  402.666656  374.350006  383.196655  383.196655   \n",
      "2 2022-01-05  382.216675  390.113342  360.336670  362.706665  362.706665   \n",
      "3 2022-01-06  359.000000  362.666656  340.166656  354.899994  354.899994   \n",
      "4 2022-01-07  360.123322  360.309998  336.666656  342.320007  342.320007   \n",
      "\n",
      "      Volume  \n",
      "0  103931400  \n",
      "1  100248300  \n",
      "2   80119800  \n",
      "3   90336600  \n",
      "4   84164700  \n"
     ]
    },
    {
     "name": "stderr",
     "output_type": "stream",
     "text": [
      "\n"
     ]
    }
   ],
   "source": [
    "import yfinance as yf\n",
    "\n",
    "# Download Tesla stock data\n",
    "tesla_data = yf.download('TSLA', start='2022-01-01', end='2022-12-31')\n",
    "\n",
    "# Reset index\n",
    "tesla_data.reset_index(inplace=True)\n",
    "\n",
    "# Save the dataframe to a CSV file\n",
    "tesla_data.to_csv('tesla_stock_data.csv', index=False)\n",
    "\n",
    "# Display the first five rows of the dataframe\n",
    "print(tesla_data.head())\n"
   ]
  },
  {
   "cell_type": "code",
   "execution_count": null,
   "id": "4bf9a68e",
   "metadata": {},
   "outputs": [],
   "source": []
  }
 ],
 "metadata": {
  "kernelspec": {
   "display_name": "Python 3 (ipykernel)",
   "language": "python",
   "name": "python3"
  },
  "language_info": {
   "codemirror_mode": {
    "name": "ipython",
    "version": 3
   },
   "file_extension": ".py",
   "mimetype": "text/x-python",
   "name": "python",
   "nbconvert_exporter": "python",
   "pygments_lexer": "ipython3",
   "version": "3.11.4"
  }
 },
 "nbformat": 4,
 "nbformat_minor": 5
}
