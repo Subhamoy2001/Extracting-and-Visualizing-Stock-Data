{
 "cells": [
  {
   "cell_type": "code",
   "execution_count": 29,
   "id": "47b9e7dc",
   "metadata": {},
   "outputs": [
    {
     "name": "stderr",
     "output_type": "stream",
     "text": [
      "[*********************100%%**********************]  1 of 1 completed\n"
     ]
    },
    {
     "name": "stdout",
     "output_type": "stream",
     "text": [
      "        Date       Open       High        Low      Close  Adj Close    Volume\n",
      "0 2022-01-03  37.307499  39.845001  37.302502  38.209999  38.209999   5654800\n",
      "1 2022-01-04  38.042500  38.247501  35.762501  37.227501  37.227501   7339600\n",
      "2 2022-01-05  37.097500  37.212502  32.287498  32.342499  32.342499  13585600\n",
      "3 2022-01-06  33.209999  34.424999  30.285000  32.757500  32.757500  24206000\n",
      "4 2022-01-07  39.942501  40.077499  33.125000  35.154999  35.154999  48549200\n"
     ]
    }
   ],
   "source": [
    "import yfinance as yf\n",
    "\n",
    "# Download GameStop stock data\n",
    "gme_data = yf.download('GME', start='2022-01-01', end='2022-12-31')\n",
    "\n",
    "# Reset index\n",
    "gme_data.reset_index(inplace=True)\n",
    "\n",
    "# Save the dataframe to a CSV file\n",
    "gme_data.to_csv('gme_stock_data.csv', index=False)\n",
    "\n",
    "# Display the first five rows of the dataframe\n",
    "print(gme_data.head())\n"
   ]
  },
  {
   "cell_type": "code",
   "execution_count": null,
   "id": "2275f68b",
   "metadata": {},
   "outputs": [],
   "source": []
  }
 ],
 "metadata": {
  "kernelspec": {
   "display_name": "Python 3 (ipykernel)",
   "language": "python",
   "name": "python3"
  },
  "language_info": {
   "codemirror_mode": {
    "name": "ipython",
    "version": 3
   },
   "file_extension": ".py",
   "mimetype": "text/x-python",
   "name": "python",
   "nbconvert_exporter": "python",
   "pygments_lexer": "ipython3",
   "version": "3.11.4"
  }
 },
 "nbformat": 4,
 "nbformat_minor": 5
}
